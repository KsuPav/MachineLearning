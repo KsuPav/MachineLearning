{
 "cells": [
  {
   "cell_type": "markdown",
   "metadata": {},
   "source": [
    "# Подготовка и изучение датасета"
   ]
  },
  {
   "cell_type": "markdown",
   "metadata": {},
   "source": [
    "### Загружаем библиотеки "
   ]
  },
  {
   "cell_type": "code",
   "execution_count": 1,
   "metadata": {},
   "outputs": [],
   "source": [
    "from pandas import read_csv , DataFrame \n",
    "from sklearn.naive_bayes import ComplementNB\n",
    "from sklearn.model_selection import train_test_split\n",
    "import matplotlib.patches as mpatches\n",
    "import matplotlib.pyplot as plt\n",
    "from sklearn.metrics import precision_score , recall_score , f1_score\n",
    "from sklearn.naive_bayes import BernoulliNB\n",
    "import numpy as np\n",
    "import scipy.spatial\n",
    "from math import pi,exp\n",
    "from collections import Counter\n",
    "from sklearn.neighbors import KNeighborsClassifier"
   ]
  },
  {
   "cell_type": "markdown",
   "metadata": {},
   "source": [
    "### Загрузка датасета и первичный анализ"
   ]
  },
  {
   "cell_type": "code",
   "execution_count": 2,
   "metadata": {},
   "outputs": [],
   "source": [
    "dataset=read_csv('dataset.csv')"
   ]
  },
  {
   "cell_type": "markdown",
   "metadata": {},
   "source": [
    "Выводим первые строки"
   ]
  },
  {
   "cell_type": "code",
   "execution_count": 3,
   "metadata": {},
   "outputs": [
    {
     "data": {
      "text/html": [
       "<div>\n",
       "<style scoped>\n",
       "    .dataframe tbody tr th:only-of-type {\n",
       "        vertical-align: middle;\n",
       "    }\n",
       "\n",
       "    .dataframe tbody tr th {\n",
       "        vertical-align: top;\n",
       "    }\n",
       "\n",
       "    .dataframe thead th {\n",
       "        text-align: right;\n",
       "    }\n",
       "</style>\n",
       "<table border=\"1\" class=\"dataframe\">\n",
       "  <thead>\n",
       "    <tr style=\"text-align: right;\">\n",
       "      <th></th>\n",
       "      <th>male</th>\n",
       "      <th>age</th>\n",
       "      <th>education</th>\n",
       "      <th>currentSmoker</th>\n",
       "      <th>cigsPerDay</th>\n",
       "      <th>BPMeds</th>\n",
       "      <th>prevalentStroke</th>\n",
       "      <th>prevalentHyp</th>\n",
       "      <th>diabetes</th>\n",
       "      <th>totChol</th>\n",
       "      <th>sysBP</th>\n",
       "      <th>diaBP</th>\n",
       "      <th>BMI</th>\n",
       "      <th>heartRate</th>\n",
       "      <th>glucose</th>\n",
       "      <th>TenYearCHD</th>\n",
       "    </tr>\n",
       "  </thead>\n",
       "  <tbody>\n",
       "    <tr>\n",
       "      <th>0</th>\n",
       "      <td>M</td>\n",
       "      <td>58.0</td>\n",
       "      <td>College</td>\n",
       "      <td>T</td>\n",
       "      <td>20.0</td>\n",
       "      <td>0.0</td>\n",
       "      <td>F</td>\n",
       "      <td>F</td>\n",
       "      <td>F</td>\n",
       "      <td>207.0</td>\n",
       "      <td>110.0</td>\n",
       "      <td>80.0</td>\n",
       "      <td>23.55</td>\n",
       "      <td>78.0</td>\n",
       "      <td>78.0</td>\n",
       "      <td>0</td>\n",
       "    </tr>\n",
       "    <tr>\n",
       "      <th>1</th>\n",
       "      <td>F</td>\n",
       "      <td>49.0</td>\n",
       "      <td>College</td>\n",
       "      <td>F</td>\n",
       "      <td>0.0</td>\n",
       "      <td>0.0</td>\n",
       "      <td>F</td>\n",
       "      <td>T</td>\n",
       "      <td>F</td>\n",
       "      <td>239.0</td>\n",
       "      <td>143.0</td>\n",
       "      <td>93.0</td>\n",
       "      <td>28.38</td>\n",
       "      <td>75.0</td>\n",
       "      <td>87.0</td>\n",
       "      <td>0</td>\n",
       "    </tr>\n",
       "    <tr>\n",
       "      <th>2</th>\n",
       "      <td>F</td>\n",
       "      <td>59.0</td>\n",
       "      <td>School</td>\n",
       "      <td>F</td>\n",
       "      <td>0.0</td>\n",
       "      <td>1.0</td>\n",
       "      <td>F</td>\n",
       "      <td>T</td>\n",
       "      <td>F</td>\n",
       "      <td>234.0</td>\n",
       "      <td>181.0</td>\n",
       "      <td>107.0</td>\n",
       "      <td>39.40</td>\n",
       "      <td>80.0</td>\n",
       "      <td>90.0</td>\n",
       "      <td>1</td>\n",
       "    </tr>\n",
       "    <tr>\n",
       "      <th>3</th>\n",
       "      <td>M</td>\n",
       "      <td>36.0</td>\n",
       "      <td>other</td>\n",
       "      <td>F</td>\n",
       "      <td>0.0</td>\n",
       "      <td>0.0</td>\n",
       "      <td>F</td>\n",
       "      <td>F</td>\n",
       "      <td>F</td>\n",
       "      <td>194.0</td>\n",
       "      <td>117.0</td>\n",
       "      <td>90.0</td>\n",
       "      <td>27.08</td>\n",
       "      <td>73.0</td>\n",
       "      <td>87.0</td>\n",
       "      <td>0</td>\n",
       "    </tr>\n",
       "    <tr>\n",
       "      <th>4</th>\n",
       "      <td>F</td>\n",
       "      <td>60.0</td>\n",
       "      <td>University</td>\n",
       "      <td>F</td>\n",
       "      <td>0.0</td>\n",
       "      <td>0.0</td>\n",
       "      <td>F</td>\n",
       "      <td>F</td>\n",
       "      <td>F</td>\n",
       "      <td>328.0</td>\n",
       "      <td>127.0</td>\n",
       "      <td>70.0</td>\n",
       "      <td>22.36</td>\n",
       "      <td>75.0</td>\n",
       "      <td>63.0</td>\n",
       "      <td>1</td>\n",
       "    </tr>\n",
       "  </tbody>\n",
       "</table>\n",
       "</div>"
      ],
      "text/plain": [
       "  male   age   education currentSmoker  cigsPerDay  BPMeds prevalentStroke  \\\n",
       "0    M  58.0     College             T        20.0     0.0               F   \n",
       "1    F  49.0     College             F         0.0     0.0               F   \n",
       "2    F  59.0      School             F         0.0     1.0               F   \n",
       "3    M  36.0       other             F         0.0     0.0               F   \n",
       "4    F  60.0  University             F         0.0     0.0               F   \n",
       "\n",
       "  prevalentHyp diabetes  totChol  sysBP  diaBP    BMI  heartRate  glucose  \\\n",
       "0            F        F    207.0  110.0   80.0  23.55       78.0     78.0   \n",
       "1            T        F    239.0  143.0   93.0  28.38       75.0     87.0   \n",
       "2            T        F    234.0  181.0  107.0  39.40       80.0     90.0   \n",
       "3            F        F    194.0  117.0   90.0  27.08       73.0     87.0   \n",
       "4            F        F    328.0  127.0   70.0  22.36       75.0     63.0   \n",
       "\n",
       "   TenYearCHD  \n",
       "0           0  \n",
       "1           0  \n",
       "2           1  \n",
       "3           0  \n",
       "4           1  "
      ]
     },
     "execution_count": 3,
     "metadata": {},
     "output_type": "execute_result"
    }
   ],
   "source": [
    "dataset.head()"
   ]
  },
  {
   "cell_type": "markdown",
   "metadata": {},
   "source": [
    "Смотрим размерность\n"
   ]
  },
  {
   "cell_type": "code",
   "execution_count": 4,
   "metadata": {},
   "outputs": [
    {
     "data": {
      "text/plain": [
       "(4238, 16)"
      ]
     },
     "execution_count": 4,
     "metadata": {},
     "output_type": "execute_result"
    }
   ],
   "source": [
    "dataset.shape"
   ]
  },
  {
   "cell_type": "markdown",
   "metadata": {},
   "source": [
    "Выводим информацию и описание датасета"
   ]
  },
  {
   "cell_type": "code",
   "execution_count": 5,
   "metadata": {},
   "outputs": [
    {
     "name": "stdout",
     "output_type": "stream",
     "text": [
      "<class 'pandas.core.frame.DataFrame'>\n",
      "RangeIndex: 4238 entries, 0 to 4237\n",
      "Data columns (total 16 columns):\n",
      " #   Column           Non-Null Count  Dtype  \n",
      "---  ------           --------------  -----  \n",
      " 0   male             4238 non-null   object \n",
      " 1   age              3814 non-null   float64\n",
      " 2   education        3716 non-null   object \n",
      " 3   currentSmoker    4238 non-null   object \n",
      " 4   cigsPerDay       4209 non-null   float64\n",
      " 5   BPMeds           4185 non-null   float64\n",
      " 6   prevalentStroke  4238 non-null   object \n",
      " 7   prevalentHyp     4238 non-null   object \n",
      " 8   diabetes         4238 non-null   object \n",
      " 9   totChol          4188 non-null   float64\n",
      " 10  sysBP            4238 non-null   float64\n",
      " 11  diaBP            4238 non-null   float64\n",
      " 12  BMI              4219 non-null   float64\n",
      " 13  heartRate        4237 non-null   float64\n",
      " 14  glucose          3850 non-null   float64\n",
      " 15  TenYearCHD       4238 non-null   int64  \n",
      "dtypes: float64(9), int64(1), object(6)\n",
      "memory usage: 529.9+ KB\n"
     ]
    }
   ],
   "source": [
    "dataset.info()"
   ]
  },
  {
   "cell_type": "code",
   "execution_count": 6,
   "metadata": {},
   "outputs": [
    {
     "data": {
      "text/html": [
       "<div>\n",
       "<style scoped>\n",
       "    .dataframe tbody tr th:only-of-type {\n",
       "        vertical-align: middle;\n",
       "    }\n",
       "\n",
       "    .dataframe tbody tr th {\n",
       "        vertical-align: top;\n",
       "    }\n",
       "\n",
       "    .dataframe thead th {\n",
       "        text-align: right;\n",
       "    }\n",
       "</style>\n",
       "<table border=\"1\" class=\"dataframe\">\n",
       "  <thead>\n",
       "    <tr style=\"text-align: right;\">\n",
       "      <th></th>\n",
       "      <th>age</th>\n",
       "      <th>cigsPerDay</th>\n",
       "      <th>BPMeds</th>\n",
       "      <th>totChol</th>\n",
       "      <th>sysBP</th>\n",
       "      <th>diaBP</th>\n",
       "      <th>BMI</th>\n",
       "      <th>heartRate</th>\n",
       "      <th>glucose</th>\n",
       "      <th>TenYearCHD</th>\n",
       "    </tr>\n",
       "  </thead>\n",
       "  <tbody>\n",
       "    <tr>\n",
       "      <th>count</th>\n",
       "      <td>3814.000000</td>\n",
       "      <td>4209.000000</td>\n",
       "      <td>4185.000000</td>\n",
       "      <td>4188.000000</td>\n",
       "      <td>4238.000000</td>\n",
       "      <td>4238.000000</td>\n",
       "      <td>4219.000000</td>\n",
       "      <td>4237.000000</td>\n",
       "      <td>3850.000000</td>\n",
       "      <td>4238.000000</td>\n",
       "    </tr>\n",
       "    <tr>\n",
       "      <th>mean</th>\n",
       "      <td>49.524646</td>\n",
       "      <td>9.003089</td>\n",
       "      <td>0.029630</td>\n",
       "      <td>236.721585</td>\n",
       "      <td>132.352407</td>\n",
       "      <td>82.893464</td>\n",
       "      <td>25.802008</td>\n",
       "      <td>75.878924</td>\n",
       "      <td>81.966753</td>\n",
       "      <td>0.151958</td>\n",
       "    </tr>\n",
       "    <tr>\n",
       "      <th>std</th>\n",
       "      <td>8.568405</td>\n",
       "      <td>11.920094</td>\n",
       "      <td>0.169584</td>\n",
       "      <td>44.590334</td>\n",
       "      <td>22.038097</td>\n",
       "      <td>11.910850</td>\n",
       "      <td>4.080111</td>\n",
       "      <td>12.026596</td>\n",
       "      <td>23.959998</td>\n",
       "      <td>0.359023</td>\n",
       "    </tr>\n",
       "    <tr>\n",
       "      <th>min</th>\n",
       "      <td>32.000000</td>\n",
       "      <td>0.000000</td>\n",
       "      <td>0.000000</td>\n",
       "      <td>107.000000</td>\n",
       "      <td>83.500000</td>\n",
       "      <td>48.000000</td>\n",
       "      <td>15.540000</td>\n",
       "      <td>44.000000</td>\n",
       "      <td>40.000000</td>\n",
       "      <td>0.000000</td>\n",
       "    </tr>\n",
       "    <tr>\n",
       "      <th>25%</th>\n",
       "      <td>42.000000</td>\n",
       "      <td>0.000000</td>\n",
       "      <td>0.000000</td>\n",
       "      <td>206.000000</td>\n",
       "      <td>117.000000</td>\n",
       "      <td>75.000000</td>\n",
       "      <td>23.070000</td>\n",
       "      <td>68.000000</td>\n",
       "      <td>71.000000</td>\n",
       "      <td>0.000000</td>\n",
       "    </tr>\n",
       "    <tr>\n",
       "      <th>50%</th>\n",
       "      <td>49.000000</td>\n",
       "      <td>0.000000</td>\n",
       "      <td>0.000000</td>\n",
       "      <td>234.000000</td>\n",
       "      <td>128.000000</td>\n",
       "      <td>82.000000</td>\n",
       "      <td>25.400000</td>\n",
       "      <td>75.000000</td>\n",
       "      <td>78.000000</td>\n",
       "      <td>0.000000</td>\n",
       "    </tr>\n",
       "    <tr>\n",
       "      <th>75%</th>\n",
       "      <td>56.000000</td>\n",
       "      <td>20.000000</td>\n",
       "      <td>0.000000</td>\n",
       "      <td>263.000000</td>\n",
       "      <td>144.000000</td>\n",
       "      <td>89.875000</td>\n",
       "      <td>28.040000</td>\n",
       "      <td>83.000000</td>\n",
       "      <td>87.000000</td>\n",
       "      <td>0.000000</td>\n",
       "    </tr>\n",
       "    <tr>\n",
       "      <th>max</th>\n",
       "      <td>70.000000</td>\n",
       "      <td>70.000000</td>\n",
       "      <td>1.000000</td>\n",
       "      <td>696.000000</td>\n",
       "      <td>295.000000</td>\n",
       "      <td>142.500000</td>\n",
       "      <td>56.800000</td>\n",
       "      <td>143.000000</td>\n",
       "      <td>394.000000</td>\n",
       "      <td>1.000000</td>\n",
       "    </tr>\n",
       "  </tbody>\n",
       "</table>\n",
       "</div>"
      ],
      "text/plain": [
       "               age   cigsPerDay       BPMeds      totChol        sysBP  \\\n",
       "count  3814.000000  4209.000000  4185.000000  4188.000000  4238.000000   \n",
       "mean     49.524646     9.003089     0.029630   236.721585   132.352407   \n",
       "std       8.568405    11.920094     0.169584    44.590334    22.038097   \n",
       "min      32.000000     0.000000     0.000000   107.000000    83.500000   \n",
       "25%      42.000000     0.000000     0.000000   206.000000   117.000000   \n",
       "50%      49.000000     0.000000     0.000000   234.000000   128.000000   \n",
       "75%      56.000000    20.000000     0.000000   263.000000   144.000000   \n",
       "max      70.000000    70.000000     1.000000   696.000000   295.000000   \n",
       "\n",
       "             diaBP          BMI    heartRate      glucose   TenYearCHD  \n",
       "count  4238.000000  4219.000000  4237.000000  3850.000000  4238.000000  \n",
       "mean     82.893464    25.802008    75.878924    81.966753     0.151958  \n",
       "std      11.910850     4.080111    12.026596    23.959998     0.359023  \n",
       "min      48.000000    15.540000    44.000000    40.000000     0.000000  \n",
       "25%      75.000000    23.070000    68.000000    71.000000     0.000000  \n",
       "50%      82.000000    25.400000    75.000000    78.000000     0.000000  \n",
       "75%      89.875000    28.040000    83.000000    87.000000     0.000000  \n",
       "max     142.500000    56.800000   143.000000   394.000000     1.000000  "
      ]
     },
     "execution_count": 6,
     "metadata": {},
     "output_type": "execute_result"
    }
   ],
   "source": [
    "dataset.describe()"
   ]
  },
  {
   "cell_type": "markdown",
   "metadata": {},
   "source": [
    "###  Смотрим частотности некотрых столбцов и проверяем на наличие нулевых/пустых значений \n"
   ]
  },
  {
   "cell_type": "code",
   "execution_count": 7,
   "metadata": {},
   "outputs": [
    {
     "data": {
      "text/plain": [
       "0"
      ]
     },
     "execution_count": 7,
     "metadata": {},
     "output_type": "execute_result"
    }
   ],
   "source": [
    "#проверяем наличие пропусков, если отличается от 0, то пропуски есть \n",
    "dataset['male'].isnull().sum()"
   ]
  },
  {
   "cell_type": "code",
   "execution_count": 8,
   "metadata": {},
   "outputs": [
    {
     "data": {
      "text/plain": [
       "F    2419\n",
       "M    1819\n",
       "Name: male, dtype: int64"
      ]
     },
     "execution_count": 8,
     "metadata": {},
     "output_type": "execute_result"
    }
   ],
   "source": [
    "#Частота полов \n",
    "dataset['male'].value_counts()"
   ]
  },
  {
   "cell_type": "code",
   "execution_count": 9,
   "metadata": {},
   "outputs": [
    {
     "data": {
      "text/plain": [
       "424"
      ]
     },
     "execution_count": 9,
     "metadata": {},
     "output_type": "execute_result"
    }
   ],
   "source": [
    "#проверяем наличие пропусков, если отличается от 0, то пропуски есть \n",
    "dataset['age'].isnull().sum()"
   ]
  },
  {
   "cell_type": "code",
   "execution_count": 10,
   "metadata": {},
   "outputs": [
    {
     "data": {
      "text/plain": [
       "522"
      ]
     },
     "execution_count": 10,
     "metadata": {},
     "output_type": "execute_result"
    }
   ],
   "source": [
    "#Пропуски в education\n",
    "dataset['education'].isnull().sum()"
   ]
  },
  {
   "cell_type": "code",
   "execution_count": 11,
   "metadata": {},
   "outputs": [
    {
     "data": {
      "text/plain": [
       "School        1551\n",
       "College       1125\n",
       "University     616\n",
       "other          424\n",
       "Name: education, dtype: int64"
      ]
     },
     "execution_count": 11,
     "metadata": {},
     "output_type": "execute_result"
    }
   ],
   "source": [
    "#Частота в EDUCATION\n",
    "dataset['education'].value_counts()"
   ]
  },
  {
   "cell_type": "code",
   "execution_count": 12,
   "metadata": {},
   "outputs": [
    {
     "data": {
      "text/plain": [
       "0"
      ]
     },
     "execution_count": 12,
     "metadata": {},
     "output_type": "execute_result"
    }
   ],
   "source": [
    "#Пропуски в currentSmoker\n",
    "dataset['currentSmoker'].isnull().sum()"
   ]
  },
  {
   "cell_type": "code",
   "execution_count": 13,
   "metadata": {},
   "outputs": [
    {
     "data": {
      "text/plain": [
       "F    2144\n",
       "T    2094\n",
       "Name: currentSmoker, dtype: int64"
      ]
     },
     "execution_count": 13,
     "metadata": {},
     "output_type": "execute_result"
    }
   ],
   "source": [
    "#Частота в currentSmoker\n",
    "dataset['currentSmoker'].value_counts()"
   ]
  },
  {
   "cell_type": "code",
   "execution_count": 14,
   "metadata": {},
   "outputs": [
    {
     "data": {
      "text/plain": [
       "29"
      ]
     },
     "execution_count": 14,
     "metadata": {},
     "output_type": "execute_result"
    }
   ],
   "source": [
    "#Пропуски в cigsPerDay\n",
    "dataset['cigsPerDay'].isnull().sum()"
   ]
  },
  {
   "cell_type": "code",
   "execution_count": 15,
   "metadata": {},
   "outputs": [
    {
     "data": {
      "text/plain": [
       "0.0     2144\n",
       "20.0     734\n",
       "30.0     217\n",
       "15.0     210\n",
       "10.0     143\n",
       "9.0      130\n",
       "5.0      121\n",
       "3.0      100\n",
       "40.0      80\n",
       "1.0       67\n",
       "43.0      56\n",
       "25.0      55\n",
       "35.0      22\n",
       "6.0       18\n",
       "2.0       18\n",
       "7.0       12\n",
       "60.0      11\n",
       "8.0       11\n",
       "4.0        9\n",
       "18.0       8\n",
       "17.0       7\n",
       "23.0       6\n",
       "50.0       6\n",
       "11.0       5\n",
       "16.0       3\n",
       "45.0       3\n",
       "13.0       3\n",
       "12.0       3\n",
       "14.0       2\n",
       "19.0       2\n",
       "38.0       1\n",
       "29.0       1\n",
       "70.0       1\n",
       "Name: cigsPerDay, dtype: int64"
      ]
     },
     "execution_count": 15,
     "metadata": {},
     "output_type": "execute_result"
    }
   ],
   "source": [
    "#Частота в cigsPerDay\n",
    "dataset['cigsPerDay'].value_counts()"
   ]
  },
  {
   "cell_type": "code",
   "execution_count": 16,
   "metadata": {},
   "outputs": [
    {
     "data": {
      "text/plain": [
       "53"
      ]
     },
     "execution_count": 16,
     "metadata": {},
     "output_type": "execute_result"
    }
   ],
   "source": [
    "#Пропуски в BPMeds\n",
    "dataset['BPMeds'].isnull().sum()"
   ]
  },
  {
   "cell_type": "code",
   "execution_count": 17,
   "metadata": {},
   "outputs": [
    {
     "data": {
      "text/plain": [
       "0.0    4061\n",
       "1.0     124\n",
       "Name: BPMeds, dtype: int64"
      ]
     },
     "execution_count": 17,
     "metadata": {},
     "output_type": "execute_result"
    }
   ],
   "source": [
    "#Частота в BPMeds\n",
    "dataset['BPMeds'].value_counts()"
   ]
  },
  {
   "cell_type": "code",
   "execution_count": 18,
   "metadata": {},
   "outputs": [
    {
     "data": {
      "text/plain": [
       "0"
      ]
     },
     "execution_count": 18,
     "metadata": {},
     "output_type": "execute_result"
    }
   ],
   "source": [
    "#Пропуски в prevalentStroke\n",
    "dataset['prevalentStroke'].isnull().sum()"
   ]
  },
  {
   "cell_type": "code",
   "execution_count": 19,
   "metadata": {},
   "outputs": [
    {
     "data": {
      "text/plain": [
       "F    4213\n",
       "T      25\n",
       "Name: prevalentStroke, dtype: int64"
      ]
     },
     "execution_count": 19,
     "metadata": {},
     "output_type": "execute_result"
    }
   ],
   "source": [
    "#Частота в prevalentStroke\n",
    "dataset['prevalentStroke'].value_counts()"
   ]
  },
  {
   "cell_type": "code",
   "execution_count": 20,
   "metadata": {},
   "outputs": [
    {
     "data": {
      "text/plain": [
       "0"
      ]
     },
     "execution_count": 20,
     "metadata": {},
     "output_type": "execute_result"
    }
   ],
   "source": [
    "#Пропуски в prevalentHyp\n",
    "dataset['prevalentHyp'].isnull().sum()"
   ]
  },
  {
   "cell_type": "code",
   "execution_count": 21,
   "metadata": {},
   "outputs": [
    {
     "data": {
      "text/plain": [
       "F    2922\n",
       "T    1316\n",
       "Name: prevalentHyp, dtype: int64"
      ]
     },
     "execution_count": 21,
     "metadata": {},
     "output_type": "execute_result"
    }
   ],
   "source": [
    "#Частота в prevalentHyp\n",
    "dataset['prevalentHyp'].value_counts()"
   ]
  },
  {
   "cell_type": "code",
   "execution_count": 22,
   "metadata": {},
   "outputs": [
    {
     "data": {
      "text/plain": [
       "0"
      ]
     },
     "execution_count": 22,
     "metadata": {},
     "output_type": "execute_result"
    }
   ],
   "source": [
    "#Пропуски в diabetes\n",
    "dataset['diabetes'].isnull().sum()"
   ]
  },
  {
   "cell_type": "code",
   "execution_count": 23,
   "metadata": {},
   "outputs": [
    {
     "data": {
      "text/plain": [
       "F    4129\n",
       "T     109\n",
       "Name: diabetes, dtype: int64"
      ]
     },
     "execution_count": 23,
     "metadata": {},
     "output_type": "execute_result"
    }
   ],
   "source": [
    "#Частота в diabetes\n",
    "dataset['diabetes'].value_counts()"
   ]
  },
  {
   "cell_type": "code",
   "execution_count": 24,
   "metadata": {},
   "outputs": [
    {
     "data": {
      "text/plain": [
       "50"
      ]
     },
     "execution_count": 24,
     "metadata": {},
     "output_type": "execute_result"
    }
   ],
   "source": [
    "#Пропуски в totChol\n",
    "dataset['totChol'].isnull().sum()"
   ]
  },
  {
   "cell_type": "code",
   "execution_count": 25,
   "metadata": {},
   "outputs": [
    {
     "data": {
      "text/plain": [
       "240.0    85\n",
       "220.0    70\n",
       "260.0    62\n",
       "210.0    61\n",
       "232.0    59\n",
       "         ..\n",
       "347.0     1\n",
       "367.0     1\n",
       "359.0     1\n",
       "353.0     1\n",
       "365.0     1\n",
       "Name: totChol, Length: 248, dtype: int64"
      ]
     },
     "execution_count": 25,
     "metadata": {},
     "output_type": "execute_result"
    }
   ],
   "source": [
    "#Частота в totChol\n",
    "dataset['totChol'].value_counts()"
   ]
  },
  {
   "cell_type": "code",
   "execution_count": 26,
   "metadata": {},
   "outputs": [
    {
     "data": {
      "text/plain": [
       "0"
      ]
     },
     "execution_count": 26,
     "metadata": {},
     "output_type": "execute_result"
    }
   ],
   "source": [
    "#Пропуски в sysBP\n",
    "dataset['sysBP'].isnull().sum()"
   ]
  },
  {
   "cell_type": "code",
   "execution_count": 27,
   "metadata": {},
   "outputs": [
    {
     "data": {
      "text/plain": [
       "120.0    107\n",
       "130.0    102\n",
       "110.0     96\n",
       "115.0     89\n",
       "125.0     88\n",
       "        ... \n",
       "295.0      1\n",
       "194.0      1\n",
       "212.0      1\n",
       "244.0      1\n",
       "230.0      1\n",
       "Name: sysBP, Length: 234, dtype: int64"
      ]
     },
     "execution_count": 27,
     "metadata": {},
     "output_type": "execute_result"
    }
   ],
   "source": [
    "#Частота в sysBP\n",
    "dataset['sysBP'].value_counts()"
   ]
  },
  {
   "cell_type": "code",
   "execution_count": 28,
   "metadata": {},
   "outputs": [
    {
     "data": {
      "text/plain": [
       "0"
      ]
     },
     "execution_count": 28,
     "metadata": {},
     "output_type": "execute_result"
    }
   ],
   "source": [
    "#Пропуски в diaBP\n",
    "dataset['diaBP'].isnull().sum()"
   ]
  },
  {
   "cell_type": "code",
   "execution_count": 29,
   "metadata": {},
   "outputs": [
    {
     "data": {
      "text/plain": [
       "80.0     262\n",
       "82.0     152\n",
       "85.0     137\n",
       "70.0     135\n",
       "81.0     131\n",
       "        ... \n",
       "53.0       1\n",
       "60.5       1\n",
       "129.0      1\n",
       "110.5      1\n",
       "142.5      1\n",
       "Name: diaBP, Length: 146, dtype: int64"
      ]
     },
     "execution_count": 29,
     "metadata": {},
     "output_type": "execute_result"
    }
   ],
   "source": [
    "#Частота в diaBP\n",
    "dataset['diaBP'].value_counts()"
   ]
  },
  {
   "cell_type": "code",
   "execution_count": 30,
   "metadata": {},
   "outputs": [
    {
     "data": {
      "text/plain": [
       "19"
      ]
     },
     "execution_count": 30,
     "metadata": {},
     "output_type": "execute_result"
    }
   ],
   "source": [
    "#Пропуски в BMI\n",
    "dataset['BMI'].isnull().sum()"
   ]
  },
  {
   "cell_type": "code",
   "execution_count": 31,
   "metadata": {},
   "outputs": [
    {
     "data": {
      "text/plain": [
       "22.19    18\n",
       "23.48    18\n",
       "22.54    18\n",
       "22.91    18\n",
       "25.09    16\n",
       "         ..\n",
       "19.12     1\n",
       "23.70     1\n",
       "29.49     1\n",
       "20.78     1\n",
       "19.00     1\n",
       "Name: BMI, Length: 1363, dtype: int64"
      ]
     },
     "execution_count": 31,
     "metadata": {},
     "output_type": "execute_result"
    }
   ],
   "source": [
    "#Частота в BMI\n",
    "dataset['BMI'].value_counts()"
   ]
  },
  {
   "cell_type": "code",
   "execution_count": 32,
   "metadata": {},
   "outputs": [
    {
     "data": {
      "text/plain": [
       "1"
      ]
     },
     "execution_count": 32,
     "metadata": {},
     "output_type": "execute_result"
    }
   ],
   "source": [
    "#Пропуски в heartRate\n",
    "dataset['heartRate'].isnull().sum()"
   ]
  },
  {
   "cell_type": "code",
   "execution_count": 33,
   "metadata": {},
   "outputs": [
    {
     "data": {
      "text/plain": [
       "75.0     563\n",
       "80.0     385\n",
       "70.0     305\n",
       "60.0     231\n",
       "85.0     227\n",
       "        ... \n",
       "130.0      1\n",
       "140.0      1\n",
       "51.0       1\n",
       "47.0       1\n",
       "97.0       1\n",
       "Name: heartRate, Length: 73, dtype: int64"
      ]
     },
     "execution_count": 33,
     "metadata": {},
     "output_type": "execute_result"
    }
   ],
   "source": [
    "#Частота в heartRate\n",
    "dataset['heartRate'].value_counts()"
   ]
  },
  {
   "cell_type": "code",
   "execution_count": 34,
   "metadata": {},
   "outputs": [
    {
     "data": {
      "text/plain": [
       "388"
      ]
     },
     "execution_count": 34,
     "metadata": {},
     "output_type": "execute_result"
    }
   ],
   "source": [
    "#Пропуски в glucose\n",
    "dataset['glucose'].isnull().sum()"
   ]
  },
  {
   "cell_type": "code",
   "execution_count": 35,
   "metadata": {},
   "outputs": [
    {
     "data": {
      "text/plain": [
       "75.0     193\n",
       "77.0     167\n",
       "73.0     156\n",
       "70.0     152\n",
       "80.0     152\n",
       "        ... \n",
       "297.0      1\n",
       "193.0      1\n",
       "191.0      1\n",
       "235.0      1\n",
       "270.0      1\n",
       "Name: glucose, Length: 143, dtype: int64"
      ]
     },
     "execution_count": 35,
     "metadata": {},
     "output_type": "execute_result"
    }
   ],
   "source": [
    "#Частота в glucose\n",
    "dataset['glucose'].value_counts()"
   ]
  },
  {
   "cell_type": "markdown",
   "metadata": {},
   "source": [
    "### Описание столбцов датасата\n",
    "- Sex:пол\n",
    "- Age: возраст. F - Ж, M - М\n",
    "- CurrentSmoker: Курить ли . T- курит, F - не курит\n",
    "- CigsPerDay: если курит, то сколько сигарет в день, если не курит, то будет стоять 0\n",
    "- BPMeds: принимал ли пациент лекарства от артериального давления 1 - да, 0 - нет\n",
    "- PrevalentStroke: был ли у пациента ранее инсульт, T - да, F - нет\n",
    "- PrevalentHyp:наличие у пациента гипертонии, T - да, F - нет\n",
    " - Diabetes: был ли у пациента диабет, T - да, F - нет\n",
    "- TotChol: уровень общего холестерина \n",
    "- SysBP: истолическое артериальное давление\n",
    "- DiaBP: диастолическое артериальное давление\n",
    "- BMI: Индекс массы тела\n",
    "- HeartRate: частота сердечных сокращений \n",
    "- Glucose: уровень глюкозы\n",
    "- TenYearCHD - будет ли у человека в течении 10 лет ишемическая болезнь сердца, 0 - нет, 1 - да(целевая переменная)"
   ]
  },
  {
   "cell_type": "markdown",
   "metadata": {},
   "source": [
    "### Выводы из первичного анализа данных\n",
    "- В данных есть пропуски. В действиетельных признакаках пропуски заменяем средне выборочным. В категориальных и бинарных  признаках пропуски заменяем медианами\n",
    "- В данных есть бинарные и категориальные признаки. Бинарные кодируем как T = 1, F = 0. В случае Категориальных используем one-hot-encoding."
   ]
  },
  {
   "cell_type": "markdown",
   "metadata": {},
   "source": [
    "## Преобразования признаков исходя из выводов и визуализация распределений"
   ]
  },
  {
   "cell_type": "markdown",
   "metadata": {},
   "source": [
    "### Преобразования"
   ]
  },
  {
   "cell_type": "code",
   "execution_count": 36,
   "metadata": {},
   "outputs": [],
   "source": [
    "# Заполняем пропуски в  бинарных и категориальных данных\n",
    "from scipy.stats import mode\n",
    "for i in ['education', 'BPMeds']:\n",
    "    dataset[i].fillna(mode(dataset[i]).mode[0], inplace=True)"
   ]
  },
  {
   "cell_type": "code",
   "execution_count": 37,
   "metadata": {},
   "outputs": [],
   "source": [
    "# Заполняем пропуски в  действительных даннх \n",
    "for i in ['age','cigsPerDay', 'totChol','BMI','heartRate','glucose']:\n",
    "    dataset[i].fillna(np.mean(dataset[i]), inplace=True)"
   ]
  },
  {
   "cell_type": "code",
   "execution_count": 38,
   "metadata": {},
   "outputs": [
    {
     "data": {
      "text/html": [
       "<div>\n",
       "<style scoped>\n",
       "    .dataframe tbody tr th:only-of-type {\n",
       "        vertical-align: middle;\n",
       "    }\n",
       "\n",
       "    .dataframe tbody tr th {\n",
       "        vertical-align: top;\n",
       "    }\n",
       "\n",
       "    .dataframe thead th {\n",
       "        text-align: right;\n",
       "    }\n",
       "</style>\n",
       "<table border=\"1\" class=\"dataframe\">\n",
       "  <thead>\n",
       "    <tr style=\"text-align: right;\">\n",
       "      <th></th>\n",
       "      <th>male</th>\n",
       "      <th>age</th>\n",
       "      <th>education</th>\n",
       "      <th>currentSmoker</th>\n",
       "      <th>cigsPerDay</th>\n",
       "      <th>BPMeds</th>\n",
       "      <th>prevalentStroke</th>\n",
       "      <th>prevalentHyp</th>\n",
       "      <th>diabetes</th>\n",
       "      <th>totChol</th>\n",
       "      <th>sysBP</th>\n",
       "      <th>diaBP</th>\n",
       "      <th>BMI</th>\n",
       "      <th>heartRate</th>\n",
       "      <th>glucose</th>\n",
       "      <th>TenYearCHD</th>\n",
       "    </tr>\n",
       "  </thead>\n",
       "  <tbody>\n",
       "    <tr>\n",
       "      <th>0</th>\n",
       "      <td>1</td>\n",
       "      <td>58.0</td>\n",
       "      <td>College</td>\n",
       "      <td>T</td>\n",
       "      <td>20.0</td>\n",
       "      <td>0.0</td>\n",
       "      <td>F</td>\n",
       "      <td>F</td>\n",
       "      <td>F</td>\n",
       "      <td>207.0</td>\n",
       "      <td>110.0</td>\n",
       "      <td>80.0</td>\n",
       "      <td>23.55</td>\n",
       "      <td>78.0</td>\n",
       "      <td>78.0</td>\n",
       "      <td>0</td>\n",
       "    </tr>\n",
       "    <tr>\n",
       "      <th>1</th>\n",
       "      <td>0</td>\n",
       "      <td>49.0</td>\n",
       "      <td>College</td>\n",
       "      <td>F</td>\n",
       "      <td>0.0</td>\n",
       "      <td>0.0</td>\n",
       "      <td>F</td>\n",
       "      <td>T</td>\n",
       "      <td>F</td>\n",
       "      <td>239.0</td>\n",
       "      <td>143.0</td>\n",
       "      <td>93.0</td>\n",
       "      <td>28.38</td>\n",
       "      <td>75.0</td>\n",
       "      <td>87.0</td>\n",
       "      <td>0</td>\n",
       "    </tr>\n",
       "    <tr>\n",
       "      <th>2</th>\n",
       "      <td>0</td>\n",
       "      <td>59.0</td>\n",
       "      <td>School</td>\n",
       "      <td>F</td>\n",
       "      <td>0.0</td>\n",
       "      <td>1.0</td>\n",
       "      <td>F</td>\n",
       "      <td>T</td>\n",
       "      <td>F</td>\n",
       "      <td>234.0</td>\n",
       "      <td>181.0</td>\n",
       "      <td>107.0</td>\n",
       "      <td>39.40</td>\n",
       "      <td>80.0</td>\n",
       "      <td>90.0</td>\n",
       "      <td>1</td>\n",
       "    </tr>\n",
       "    <tr>\n",
       "      <th>3</th>\n",
       "      <td>1</td>\n",
       "      <td>36.0</td>\n",
       "      <td>other</td>\n",
       "      <td>F</td>\n",
       "      <td>0.0</td>\n",
       "      <td>0.0</td>\n",
       "      <td>F</td>\n",
       "      <td>F</td>\n",
       "      <td>F</td>\n",
       "      <td>194.0</td>\n",
       "      <td>117.0</td>\n",
       "      <td>90.0</td>\n",
       "      <td>27.08</td>\n",
       "      <td>73.0</td>\n",
       "      <td>87.0</td>\n",
       "      <td>0</td>\n",
       "    </tr>\n",
       "    <tr>\n",
       "      <th>4</th>\n",
       "      <td>0</td>\n",
       "      <td>60.0</td>\n",
       "      <td>University</td>\n",
       "      <td>F</td>\n",
       "      <td>0.0</td>\n",
       "      <td>0.0</td>\n",
       "      <td>F</td>\n",
       "      <td>F</td>\n",
       "      <td>F</td>\n",
       "      <td>328.0</td>\n",
       "      <td>127.0</td>\n",
       "      <td>70.0</td>\n",
       "      <td>22.36</td>\n",
       "      <td>75.0</td>\n",
       "      <td>63.0</td>\n",
       "      <td>1</td>\n",
       "    </tr>\n",
       "  </tbody>\n",
       "</table>\n",
       "</div>"
      ],
      "text/plain": [
       "   male   age   education currentSmoker  cigsPerDay  BPMeds prevalentStroke  \\\n",
       "0     1  58.0     College             T        20.0     0.0               F   \n",
       "1     0  49.0     College             F         0.0     0.0               F   \n",
       "2     0  59.0      School             F         0.0     1.0               F   \n",
       "3     1  36.0       other             F         0.0     0.0               F   \n",
       "4     0  60.0  University             F         0.0     0.0               F   \n",
       "\n",
       "  prevalentHyp diabetes  totChol  sysBP  diaBP    BMI  heartRate  glucose  \\\n",
       "0            F        F    207.0  110.0   80.0  23.55       78.0     78.0   \n",
       "1            T        F    239.0  143.0   93.0  28.38       75.0     87.0   \n",
       "2            T        F    234.0  181.0  107.0  39.40       80.0     90.0   \n",
       "3            F        F    194.0  117.0   90.0  27.08       73.0     87.0   \n",
       "4            F        F    328.0  127.0   70.0  22.36       75.0     63.0   \n",
       "\n",
       "   TenYearCHD  \n",
       "0           0  \n",
       "1           0  \n",
       "2           1  \n",
       "3           0  \n",
       "4           1  "
      ]
     },
     "execution_count": 38,
     "metadata": {},
     "output_type": "execute_result"
    }
   ],
   "source": [
    "#функция преобразующая пол \n",
    "def priobr_sex(sex):\n",
    "    if sex=='M':\n",
    "        return 1\n",
    "    elif sex=='F':\n",
    "        return 0\n",
    "    \n",
    "dataset['male'] = dataset['male'].apply(priobr_sex)\n",
    "dataset.head()"
   ]
  },
  {
   "cell_type": "code",
   "execution_count": 39,
   "metadata": {},
   "outputs": [
    {
     "data": {
      "text/html": [
       "<div>\n",
       "<style scoped>\n",
       "    .dataframe tbody tr th:only-of-type {\n",
       "        vertical-align: middle;\n",
       "    }\n",
       "\n",
       "    .dataframe tbody tr th {\n",
       "        vertical-align: top;\n",
       "    }\n",
       "\n",
       "    .dataframe thead th {\n",
       "        text-align: right;\n",
       "    }\n",
       "</style>\n",
       "<table border=\"1\" class=\"dataframe\">\n",
       "  <thead>\n",
       "    <tr style=\"text-align: right;\">\n",
       "      <th></th>\n",
       "      <th>male</th>\n",
       "      <th>age</th>\n",
       "      <th>education</th>\n",
       "      <th>currentSmoker</th>\n",
       "      <th>cigsPerDay</th>\n",
       "      <th>BPMeds</th>\n",
       "      <th>prevalentStroke</th>\n",
       "      <th>prevalentHyp</th>\n",
       "      <th>diabetes</th>\n",
       "      <th>totChol</th>\n",
       "      <th>sysBP</th>\n",
       "      <th>diaBP</th>\n",
       "      <th>BMI</th>\n",
       "      <th>heartRate</th>\n",
       "      <th>glucose</th>\n",
       "      <th>TenYearCHD</th>\n",
       "    </tr>\n",
       "  </thead>\n",
       "  <tbody>\n",
       "    <tr>\n",
       "      <th>0</th>\n",
       "      <td>1</td>\n",
       "      <td>58.0</td>\n",
       "      <td>College</td>\n",
       "      <td>1</td>\n",
       "      <td>20.0</td>\n",
       "      <td>0.0</td>\n",
       "      <td>0</td>\n",
       "      <td>0</td>\n",
       "      <td>0</td>\n",
       "      <td>207.0</td>\n",
       "      <td>110.0</td>\n",
       "      <td>80.0</td>\n",
       "      <td>23.55</td>\n",
       "      <td>78.0</td>\n",
       "      <td>78.0</td>\n",
       "      <td>0</td>\n",
       "    </tr>\n",
       "    <tr>\n",
       "      <th>1</th>\n",
       "      <td>0</td>\n",
       "      <td>49.0</td>\n",
       "      <td>College</td>\n",
       "      <td>0</td>\n",
       "      <td>0.0</td>\n",
       "      <td>0.0</td>\n",
       "      <td>0</td>\n",
       "      <td>0</td>\n",
       "      <td>0</td>\n",
       "      <td>239.0</td>\n",
       "      <td>143.0</td>\n",
       "      <td>93.0</td>\n",
       "      <td>28.38</td>\n",
       "      <td>75.0</td>\n",
       "      <td>87.0</td>\n",
       "      <td>0</td>\n",
       "    </tr>\n",
       "    <tr>\n",
       "      <th>2</th>\n",
       "      <td>0</td>\n",
       "      <td>59.0</td>\n",
       "      <td>School</td>\n",
       "      <td>0</td>\n",
       "      <td>0.0</td>\n",
       "      <td>1.0</td>\n",
       "      <td>0</td>\n",
       "      <td>0</td>\n",
       "      <td>0</td>\n",
       "      <td>234.0</td>\n",
       "      <td>181.0</td>\n",
       "      <td>107.0</td>\n",
       "      <td>39.40</td>\n",
       "      <td>80.0</td>\n",
       "      <td>90.0</td>\n",
       "      <td>1</td>\n",
       "    </tr>\n",
       "    <tr>\n",
       "      <th>3</th>\n",
       "      <td>1</td>\n",
       "      <td>36.0</td>\n",
       "      <td>other</td>\n",
       "      <td>0</td>\n",
       "      <td>0.0</td>\n",
       "      <td>0.0</td>\n",
       "      <td>0</td>\n",
       "      <td>0</td>\n",
       "      <td>0</td>\n",
       "      <td>194.0</td>\n",
       "      <td>117.0</td>\n",
       "      <td>90.0</td>\n",
       "      <td>27.08</td>\n",
       "      <td>73.0</td>\n",
       "      <td>87.0</td>\n",
       "      <td>0</td>\n",
       "    </tr>\n",
       "    <tr>\n",
       "      <th>4</th>\n",
       "      <td>0</td>\n",
       "      <td>60.0</td>\n",
       "      <td>University</td>\n",
       "      <td>0</td>\n",
       "      <td>0.0</td>\n",
       "      <td>0.0</td>\n",
       "      <td>0</td>\n",
       "      <td>0</td>\n",
       "      <td>0</td>\n",
       "      <td>328.0</td>\n",
       "      <td>127.0</td>\n",
       "      <td>70.0</td>\n",
       "      <td>22.36</td>\n",
       "      <td>75.0</td>\n",
       "      <td>63.0</td>\n",
       "      <td>1</td>\n",
       "    </tr>\n",
       "  </tbody>\n",
       "</table>\n",
       "</div>"
      ],
      "text/plain": [
       "   male   age   education  currentSmoker  cigsPerDay  BPMeds  prevalentStroke  \\\n",
       "0     1  58.0     College              1        20.0     0.0                0   \n",
       "1     0  49.0     College              0         0.0     0.0                0   \n",
       "2     0  59.0      School              0         0.0     1.0                0   \n",
       "3     1  36.0       other              0         0.0     0.0                0   \n",
       "4     0  60.0  University              0         0.0     0.0                0   \n",
       "\n",
       "   prevalentHyp  diabetes  totChol  sysBP  diaBP    BMI  heartRate  glucose  \\\n",
       "0             0         0    207.0  110.0   80.0  23.55       78.0     78.0   \n",
       "1             0         0    239.0  143.0   93.0  28.38       75.0     87.0   \n",
       "2             0         0    234.0  181.0  107.0  39.40       80.0     90.0   \n",
       "3             0         0    194.0  117.0   90.0  27.08       73.0     87.0   \n",
       "4             0         0    328.0  127.0   70.0  22.36       75.0     63.0   \n",
       "\n",
       "   TenYearCHD  \n",
       "0           0  \n",
       "1           0  \n",
       "2           1  \n",
       "3           0  \n",
       "4           1  "
      ]
     },
     "execution_count": 39,
     "metadata": {},
     "output_type": "execute_result"
    }
   ],
   "source": [
    "#Приобразуем бинарные данные\n",
    "def priobr_binar(x):\n",
    "    if x == 'T':\n",
    "        return 1\n",
    "    else:\n",
    "        return 0\n",
    "for i in ['currentSmoker', 'prevalentStroke', 'prevalentHyp', 'prevalentHyp', 'diabetes' ]:\n",
    "    dataset[i] = dataset[i].agg(priobr_binar)\n",
    "dataset.head()"
   ]
  },
  {
   "cell_type": "code",
   "execution_count": 40,
   "metadata": {},
   "outputs": [],
   "source": [
    "def to_int(x):\n",
    "    return int(x)"
   ]
  },
  {
   "cell_type": "code",
   "execution_count": 41,
   "metadata": {},
   "outputs": [
    {
     "data": {
      "text/html": [
       "<div>\n",
       "<style scoped>\n",
       "    .dataframe tbody tr th:only-of-type {\n",
       "        vertical-align: middle;\n",
       "    }\n",
       "\n",
       "    .dataframe tbody tr th {\n",
       "        vertical-align: top;\n",
       "    }\n",
       "\n",
       "    .dataframe thead th {\n",
       "        text-align: right;\n",
       "    }\n",
       "</style>\n",
       "<table border=\"1\" class=\"dataframe\">\n",
       "  <thead>\n",
       "    <tr style=\"text-align: right;\">\n",
       "      <th></th>\n",
       "      <th>male</th>\n",
       "      <th>age</th>\n",
       "      <th>education</th>\n",
       "      <th>currentSmoker</th>\n",
       "      <th>cigsPerDay</th>\n",
       "      <th>BPMeds</th>\n",
       "      <th>prevalentStroke</th>\n",
       "      <th>prevalentHyp</th>\n",
       "      <th>diabetes</th>\n",
       "      <th>totChol</th>\n",
       "      <th>sysBP</th>\n",
       "      <th>diaBP</th>\n",
       "      <th>BMI</th>\n",
       "      <th>heartRate</th>\n",
       "      <th>glucose</th>\n",
       "      <th>TenYearCHD</th>\n",
       "      <th>College</th>\n",
       "      <th>School</th>\n",
       "      <th>University</th>\n",
       "      <th>other</th>\n",
       "    </tr>\n",
       "  </thead>\n",
       "  <tbody>\n",
       "    <tr>\n",
       "      <th>0</th>\n",
       "      <td>1</td>\n",
       "      <td>58.0</td>\n",
       "      <td>College</td>\n",
       "      <td>1</td>\n",
       "      <td>20.0</td>\n",
       "      <td>0.0</td>\n",
       "      <td>0</td>\n",
       "      <td>0</td>\n",
       "      <td>0</td>\n",
       "      <td>207.0</td>\n",
       "      <td>110.0</td>\n",
       "      <td>80.0</td>\n",
       "      <td>23.55</td>\n",
       "      <td>78.0</td>\n",
       "      <td>78.0</td>\n",
       "      <td>0</td>\n",
       "      <td>1</td>\n",
       "      <td>0</td>\n",
       "      <td>0</td>\n",
       "      <td>0</td>\n",
       "    </tr>\n",
       "    <tr>\n",
       "      <th>1</th>\n",
       "      <td>0</td>\n",
       "      <td>49.0</td>\n",
       "      <td>College</td>\n",
       "      <td>0</td>\n",
       "      <td>0.0</td>\n",
       "      <td>0.0</td>\n",
       "      <td>0</td>\n",
       "      <td>0</td>\n",
       "      <td>0</td>\n",
       "      <td>239.0</td>\n",
       "      <td>143.0</td>\n",
       "      <td>93.0</td>\n",
       "      <td>28.38</td>\n",
       "      <td>75.0</td>\n",
       "      <td>87.0</td>\n",
       "      <td>0</td>\n",
       "      <td>1</td>\n",
       "      <td>0</td>\n",
       "      <td>0</td>\n",
       "      <td>0</td>\n",
       "    </tr>\n",
       "    <tr>\n",
       "      <th>2</th>\n",
       "      <td>0</td>\n",
       "      <td>59.0</td>\n",
       "      <td>School</td>\n",
       "      <td>0</td>\n",
       "      <td>0.0</td>\n",
       "      <td>1.0</td>\n",
       "      <td>0</td>\n",
       "      <td>0</td>\n",
       "      <td>0</td>\n",
       "      <td>234.0</td>\n",
       "      <td>181.0</td>\n",
       "      <td>107.0</td>\n",
       "      <td>39.40</td>\n",
       "      <td>80.0</td>\n",
       "      <td>90.0</td>\n",
       "      <td>1</td>\n",
       "      <td>0</td>\n",
       "      <td>1</td>\n",
       "      <td>0</td>\n",
       "      <td>0</td>\n",
       "    </tr>\n",
       "    <tr>\n",
       "      <th>3</th>\n",
       "      <td>1</td>\n",
       "      <td>36.0</td>\n",
       "      <td>other</td>\n",
       "      <td>0</td>\n",
       "      <td>0.0</td>\n",
       "      <td>0.0</td>\n",
       "      <td>0</td>\n",
       "      <td>0</td>\n",
       "      <td>0</td>\n",
       "      <td>194.0</td>\n",
       "      <td>117.0</td>\n",
       "      <td>90.0</td>\n",
       "      <td>27.08</td>\n",
       "      <td>73.0</td>\n",
       "      <td>87.0</td>\n",
       "      <td>0</td>\n",
       "      <td>0</td>\n",
       "      <td>0</td>\n",
       "      <td>0</td>\n",
       "      <td>1</td>\n",
       "    </tr>\n",
       "    <tr>\n",
       "      <th>4</th>\n",
       "      <td>0</td>\n",
       "      <td>60.0</td>\n",
       "      <td>University</td>\n",
       "      <td>0</td>\n",
       "      <td>0.0</td>\n",
       "      <td>0.0</td>\n",
       "      <td>0</td>\n",
       "      <td>0</td>\n",
       "      <td>0</td>\n",
       "      <td>328.0</td>\n",
       "      <td>127.0</td>\n",
       "      <td>70.0</td>\n",
       "      <td>22.36</td>\n",
       "      <td>75.0</td>\n",
       "      <td>63.0</td>\n",
       "      <td>1</td>\n",
       "      <td>0</td>\n",
       "      <td>0</td>\n",
       "      <td>1</td>\n",
       "      <td>0</td>\n",
       "    </tr>\n",
       "  </tbody>\n",
       "</table>\n",
       "</div>"
      ],
      "text/plain": [
       "   male   age   education  currentSmoker  cigsPerDay  BPMeds  prevalentStroke  \\\n",
       "0     1  58.0     College              1        20.0     0.0                0   \n",
       "1     0  49.0     College              0         0.0     0.0                0   \n",
       "2     0  59.0      School              0         0.0     1.0                0   \n",
       "3     1  36.0       other              0         0.0     0.0                0   \n",
       "4     0  60.0  University              0         0.0     0.0                0   \n",
       "\n",
       "   prevalentHyp  diabetes  totChol  sysBP  diaBP    BMI  heartRate  glucose  \\\n",
       "0             0         0    207.0  110.0   80.0  23.55       78.0     78.0   \n",
       "1             0         0    239.0  143.0   93.0  28.38       75.0     87.0   \n",
       "2             0         0    234.0  181.0  107.0  39.40       80.0     90.0   \n",
       "3             0         0    194.0  117.0   90.0  27.08       73.0     87.0   \n",
       "4             0         0    328.0  127.0   70.0  22.36       75.0     63.0   \n",
       "\n",
       "   TenYearCHD  College  School  University  other  \n",
       "0           0        1       0           0      0  \n",
       "1           0        1       0           0      0  \n",
       "2           1        0       1           0      0  \n",
       "3           0        0       0           0      1  \n",
       "4           1        0       0           1      0  "
      ]
     },
     "execution_count": 41,
     "metadata": {},
     "output_type": "execute_result"
    }
   ],
   "source": [
    "# Делаем one hot encoding и приравниаем к int, потому что реализация sklearn возвращает категории почему -то в float \n",
    "from sklearn.preprocessing import OneHotEncoder\n",
    "encoder = OneHotEncoder(handle_unknown='ignore',sparse=False)\n",
    "encoder.fit(dataset['education'].to_frame())\n",
    "result = encoder.transform(dataset['education'].to_frame())\n",
    "for i in range(len(encoder.categories_[0])):\n",
    "    \n",
    "    dataset[encoder.categories_[0][i]] = result[:,i]\n",
    "    dataset[encoder.categories_[0][i]] = dataset[encoder.categories_[0][i]].agg(to_int)\n",
    "\n",
    "    \n",
    "# education Удалим после визуального анализа\n",
    "dataset.head()"
   ]
  },
  {
   "cell_type": "markdown",
   "metadata": {},
   "source": [
    "### Визуализации"
   ]
  },
  {
   "cell_type": "code",
   "execution_count": 42,
   "metadata": {},
   "outputs": [
    {
     "data": {
      "text/plain": [
       "<matplotlib.legend.Legend at 0x4bee5f40>"
      ]
     },
     "execution_count": 42,
     "metadata": {},
     "output_type": "execute_result"
    },
    {
     "data": {
      "image/png": "[encoded data removed]",
      "text/plain": [
       "<Figure size 432x288 with 1 Axes>"
      ]
     },
     "metadata": {
      "needs_background": "light"
     },
     "output_type": "display_data"
    }
   ],
   "source": [
    "#Распределение наличия  ишемической болезни сердца по полу\n",
    "plt.xlabel('male')\n",
    "plt.ylabel('Количество людей ')\n",
    "plt.hist(x=dataset[dataset['TenYearCHD']==1]['male'], bins=4,color='blue')\n",
    "plt.hist(x=dataset[dataset['TenYearCHD']==0]['male'], bins=5,color='red')\n",
    "vern = mpatches.Patch(color='blue', label='Количество больных ')\n",
    "ne_vern = mpatches.Patch(color='red', label='Количество здоровых' )\n",
    "plt.legend(handles=[vern,ne_vern])"
   ]
  },
  {
   "cell_type": "code",
   "execution_count": 43,
   "metadata": {},
   "outputs": [
    {
     "data": {
      "text/plain": [
       "<matplotlib.legend.Legend at 0x4bee5fa0>"
      ]
     },
     "execution_count": 43,
     "metadata": {},
     "output_type": "execute_result"
    },
    {
     "data": {
      "image/png": "[encoded data removed]",
      "text/plain": [
       "<Figure size 1800x720 with 2 Axes>"
      ]
     },
     "metadata": {
      "needs_background": "light"
     },
     "output_type": "display_data"
    }
   ],
   "source": [
    "#Распределение наличия  ишемической болезни сердца по возрастам \n",
    "fig = plt.figure(figsize=(25,10))\n",
    "plt.subplot(1, 2, 1)\n",
    "plt.hist(x=dataset[dataset['TenYearCHD']==1]['age'], bins=6,color='blue')\n",
    "plt.xlabel('AGE')\n",
    "plt.ylabel('Количество людей ')\n",
    "plt.subplot(1, 2, 2)\n",
    "plt.hist(x=dataset[dataset['TenYearCHD']==0]['age'], bins=6,color='red')\n",
    "plt.xlabel('AGE')\n",
    "plt.ylabel('Количество людей ')\n",
    "vern = mpatches.Patch(color='blue', label='Количество больных  ')\n",
    "ne_vern = mpatches.Patch(color='red', label='Количество здоровых ')\n",
    "plt.legend(handles=[vern,ne_vern])"
   ]
  },
  {
   "cell_type": "code",
   "execution_count": 44,
   "metadata": {
    "scrolled": true
   },
   "outputs": [
    {
     "data": {
      "text/plain": [
       "<matplotlib.legend.Legend at 0x4bff3af0>"
      ]
     },
     "execution_count": 44,
     "metadata": {},
     "output_type": "execute_result"
    },
    {
     "data": {
      "image/png": "[encoded data removed]",
      "text/plain": [
       "<Figure size 1440x576 with 2 Axes>"
      ]
     },
     "metadata": {
      "needs_background": "light"
     },
     "output_type": "display_data"
    }
   ],
   "source": [
    "#Распределение наличия  ишемической болезни сердца по количеству выкуренных сигарет\n",
    "fig = plt.figure(figsize=(20,8))\n",
    "plt.subplot(1, 2, 1)\n",
    "plt.hist(x=dataset[dataset['TenYearCHD']==1]['cigsPerDay'], bins=6,color='blue')\n",
    "plt.xlabel('cigsPerDay')\n",
    "plt.ylabel('Количество людей ')\n",
    "plt.subplot(1, 2, 2)\n",
    "plt.hist(x=dataset[dataset['TenYearCHD']==0]['cigsPerDay'], bins=6,color='red')\n",
    "plt.xlabel('cigsPerDay')\n",
    "plt.ylabel('Количество людей ')\n",
    "vern = mpatches.Patch(color='blue', label='Количество больных  ')\n",
    "ne_vern = mpatches.Patch(color='red', label='Количество здоровых ')\n",
    "plt.legend(handles=[vern,ne_vern])"
   ]
  },
  {
   "cell_type": "code",
   "execution_count": 45,
   "metadata": {},
   "outputs": [
    {
     "data": {
      "text/plain": [
       "<matplotlib.legend.Legend at 0x4c922430>"
      ]
     },
     "execution_count": 45,
     "metadata": {},
     "output_type": "execute_result"
    },
    {
     "data": {
      "image/png": "[encoded data removed]",
      "text/plain": [
       "<Figure size 1440x720 with 2 Axes>"
      ]
     },
     "metadata": {
      "needs_background": "light"
     },
     "output_type": "display_data"
    }
   ],
   "source": [
    "#Распределение наличия  ишемической болезни сердца по образованию\n",
    "fig = plt.figure(figsize=(20,10))\n",
    "plt.subplot(1, 2, 1)\n",
    "plt.hist(x=dataset[dataset['TenYearCHD']==1]['education'], bins=5,color='blue')\n",
    "plt.xlabel('EDUCATION')\n",
    "plt.ylabel('Количество людей ')\n",
    "plt.subplot(1, 2, 2)\n",
    "plt.hist(x=dataset[dataset['TenYearCHD']==0]['education'], bins=6,color='red')\n",
    "plt.xlabel('EDUCATION')\n",
    "plt.ylabel('Количество людей ')\n",
    "vern = mpatches.Patch(color='blue', label='Количество больных  ')\n",
    "ne_vern = mpatches.Patch(color='red', label='Количество здоровых ')\n",
    "plt.legend(handles=[vern,ne_vern])"
   ]
  },
  {
   "cell_type": "code",
   "execution_count": 46,
   "metadata": {},
   "outputs": [
    {
     "data": {
      "text/plain": [
       "<matplotlib.legend.Legend at 0x4cf54130>"
      ]
     },
     "execution_count": 46,
     "metadata": {},
     "output_type": "execute_result"
    },
    {
     "data": {
      "image/png": "[encoded data removed]",
      "text/plain": [
       "<Figure size 1800x720 with 2 Axes>"
      ]
     },
     "metadata": {
      "needs_background": "light"
     },
     "output_type": "display_data"
    }
   ],
   "source": [
    "#Распределение наличия  ишемической болезни сердца по индексу массы \n",
    "fig = plt.figure(figsize=(25,10))\n",
    "plt.subplot(1, 2, 1)\n",
    "plt.hist(x=dataset[dataset['TenYearCHD']==1]['BMI'], bins=6,color='blue')\n",
    "plt.xlabel('cigsPerDay')\n",
    "plt.ylabel('Количество людей ')\n",
    "plt.subplot(1, 2, 2)\n",
    "plt.hist(x=dataset[dataset['TenYearCHD']==0]['BMI'], bins=6,color='red')\n",
    "plt.xlabel('cigsPerDay')\n",
    "plt.ylabel('Количество людей ')\n",
    "vern = mpatches.Patch(color='blue', label='Количество больных  ')\n",
    "ne_vern = mpatches.Patch(color='red', label='Количество здоровых ')\n",
    "plt.legend(handles=[vern,ne_vern])"
   ]
  },
  {
   "cell_type": "markdown",
   "metadata": {},
   "source": [
    "## Выводы по визуализации\n",
    "- По распределению по полам, можно сказать, что мужчины чуть чаще болеют ишемической болезни сердца, но при это женщин почти в 2 раза больше чем мужчинв выборке, потому можно сделать вывод, что это небольшая разница количеством больных среди женщин и мужчин вызвана бОльшим количеством женщин.\n",
    "- Чаще всего люди болеют в возрсте 45-50. в возрасте 50-65 можно сказать, что болеют на 25% реже, чем в возрасте 45-50, при этом доля больных от общей доли больны значительна. От 35 до 45 люди чаще не болеют, чем болеет примерно в 2-3 раза.\n",
    "- Даже курения от 0 до 1 сигареты имеет серьезные последствия для здоровья. Примерно 50-60 % Больных людей курят по 0-10 сигаретам. Второе место по вреду это 20 -30 сигарет в день. Выкуривие от  30 до 60 сигат в день повышает примерно от 3 до 6-8 раз вероятность болезни. \n",
    "- Чаще всего болеют люди имеющие только школьное образование( примерно 50% от обшего числа больных).Обучение в вузе примерно поднимает вероятность не заболеть в 4 раза. \n",
    "- Люди с инлексом массы от 20 до 25 чаще всего болеют. "
   ]
  },
  {
   "cell_type": "code",
   "execution_count": 47,
   "metadata": {},
   "outputs": [],
   "source": [
    "# удаляем MARRIAGE  и EDUCATION \n",
    "del dataset['education']"
   ]
  },
  {
   "cell_type": "markdown",
   "metadata": {},
   "source": [
    "# Реализация алгоритма k ближайших соседей с использованием весов и наивного байесовского классификатора"
   ]
  },
  {
   "cell_type": "markdown",
   "metadata": {},
   "source": [
    "### Фунция для подсчета метрик классификации и разделение выборки на тест и трейн"
   ]
  },
  {
   "cell_type": "code",
   "execution_count": 48,
   "metadata": {},
   "outputs": [],
   "source": [
    "def metrics(pred, Y_test):\n",
    "    \n",
    "    \n",
    "    print(\"Accuracy: \", (pred==Y_test).mean())\n",
    "    print(\"Pprecision: \", precision_score(pred, Y_test, average='micro'))\n",
    "    print(\"Recall: \", recall_score(pred, Y_test, average='micro'))\n",
    "    print(\"F1: \", f1_score(pred, Y_test, average='micro'))\n"
   ]
  },
  {
   "cell_type": "code",
   "execution_count": 49,
   "metadata": {},
   "outputs": [],
   "source": [
    "#разбиваю выборку на трейн и тест. Для теста выделяю 30% выборки.\n",
    "X_train, X_test, y_train, y_test = train_test_split(dataset.drop('TenYearCHD',axis=1), dataset['TenYearCHD'], test_size=0.2, random_state=42,shuffle=True)"
   ]
  },
  {
   "cell_type": "markdown",
   "metadata": {},
   "source": [
    "### Наивный байесовский классификатор"
   ]
  },
  {
   "cell_type": "code",
   "execution_count": 50,
   "metadata": {},
   "outputs": [],
   "source": [
    "#мой наивный байесовский классификатор реализован в виде класса NaivBaisClassificator в нем есть 2 главных публичный метода \n",
    "#fit - для обучения и predict - для предсказания , остальные методы приватные и используются в публичных.\n",
    "class NaivBaisClassificator:\n",
    "    \n",
    "    #при инициализации мы создаем out - это словарь. Ключи этого словаря будут название фич. А значения по ключу будет \n",
    "    #датафрейм.\n",
    "    #Каждый датафрейм является Likelihood Table т.е. таблицей правдоподобия. На основе этих таблиц в методе -onepredict будут\n",
    "    #делаться предскания о пренадлежности объекта к классу 1 или 0\n",
    "    def __init__(self):\n",
    "        self.out={}\n",
    "    \n",
    "    #метод _make_likelihood_Table считает Likelihood Table для конкретного признака \n",
    "    def _make_likelihood_Table(self,labels_and_serie):\n",
    "        a=labels_and_serie[labels_and_serie['target']==1][labels_and_serie.keys()[1]].value_counts()/len(labels_and_serie[labels_and_serie['target']==1][labels_and_serie.keys()[1]])\n",
    "        b=labels_and_serie[labels_and_serie['target']==0][labels_and_serie.keys()[1]].value_counts()/len(labels_and_serie[labels_and_serie['target']==0][labels_and_serie.keys()[1]])\n",
    "        out_dataframe=DataFrame()\n",
    "        if set(a.keys())==set(b.keys()):\n",
    "        \n",
    "            out_dataframe[a.name+'_1']=a\n",
    "            out_dataframe[b.name+'_0']=b\n",
    "            return out_dataframe\n",
    "        if len(set(a.keys())-set(b.keys()))!=0:\n",
    "            for m in list(set(a.keys())-set(b.keys())):\n",
    "                b[m]=1/len(labels_and_serie[labels_and_serie['target']==0][labels_and_serie.keys()[1]])\n",
    "        if len(set(b.keys())-set(a.keys()))!=0:\n",
    "            for m in list(set(b.keys())-set(a.keys())):\n",
    "                        a[m]=1/len(labels_and_serie[labels_and_serie['target']==1][labels_and_serie.keys()[1]])\n",
    "        out_dataframe[a.name+'_1']=a\n",
    "        out_dataframe[b.name+'_0']=b\n",
    "        return out_dataframe\n",
    "    \n",
    "    \n",
    "    #метод fit заполняет словарь out датафреймами, которые являются Likelihood Table\n",
    "    def fit(self,train,test):\n",
    "        data=DataFrame()\n",
    "        data=train.copy()\n",
    "        data['target']=test.values\n",
    "        dict_of_df={}\n",
    "        for i in data.columns[0:-1]:\n",
    "            dict_of_df[i]=self._make_likelihood_Table(data[['target',i]])\n",
    "        self.out=dict_of_df\n",
    "    \n",
    "    \n",
    "    #метод _onepredict делает предсказания класса для одного объекта используя словарь out \n",
    "    def _onepredict(self,test):\n",
    "        zero=1\n",
    "        one=1\n",
    "        for i in test.keys():\n",
    "            #использую отловщик ошибок, потому что возможна такая ситуация, что нет ключа в таблице на обучении, это возможно\n",
    "            #если не было этого значения в обучающей выборке. Особенно это актуально для параметров являющимися действительными\n",
    "            #числами. К примеру Fare. Я не удалил этот признак, потому что во первых он все-таки может быть в обуч выборке\n",
    "            # во вторых он может быть полезен в других моделях\n",
    "            try:\n",
    "                one=one*float(self.out[i][i+'_1'][test[i]])\n",
    "                zero=zero*float(self.out[i][i+'_0'][test[i]])\n",
    "            except:\n",
    "                one=one*1\n",
    "                zero=zero*1\n",
    "        if zero>one:\n",
    "        \n",
    "            return 0\n",
    "        else:\n",
    "        \n",
    "            return 1\n",
    "        \n",
    "    #метод predict использует метод _onepredict для предсказания класса для одного объекта, при помощи цикла метод predict делает \n",
    "    #предсказания для каждлго объекта  и возвращает в итоге список меток для каждого объекта\n",
    "    def predict(self,test_dataset):\n",
    "        final_predict=[]\n",
    "        for k in range(test_dataset.shape[0]):\n",
    "            final_predict.append(self._onepredict(test_dataset.iloc[k]))\n",
    "        return final_predict\n",
    "    "
   ]
  },
  {
   "cell_type": "code",
   "execution_count": 51,
   "metadata": {},
   "outputs": [
    {
     "name": "stdout",
     "output_type": "stream",
     "text": [
      "Метрики на обучающей выборки \n",
      "Accuracy:  0.6283185840707964\n",
      "Pprecision:  0.6283185840707964\n",
      "Recall:  0.6283185840707964\n",
      "F1:  0.6283185840707964\n",
      "Метрики на тестовой выборки \n",
      "Accuracy:  0.5495283018867925\n",
      "Pprecision:  0.5495283018867925\n",
      "Recall:  0.5495283018867925\n",
      "F1:  0.5495283018867925\n"
     ]
    }
   ],
   "source": [
    "#обучаю свою модель модель\n",
    "my_NaivBais=NaivBaisClassificator()\n",
    "my_NaivBais.fit(X_train,y_train)\n",
    "#делаем предсказания на трейне и на тесте и смотрим метрики\n",
    "print('Метрики на обучающей выборки ')\n",
    "metrics(my_NaivBais.predict(X_train),y_train)\n",
    "print('Метрики на тестовой выборки ')\n",
    "metrics(my_NaivBais.predict(X_test),y_test)"
   ]
  },
  {
   "cell_type": "code",
   "execution_count": 52,
   "metadata": {},
   "outputs": [
    {
     "name": "stdout",
     "output_type": "stream",
     "text": [
      "Метрики на обучающей выборки \n",
      "Accuracy:  0.6212389380530974\n",
      "Pprecision:  0.6212389380530974\n",
      "Recall:  0.6212389380530974\n",
      "F1:  0.6212389380530974\n",
      "Метрики на тестовой выборки \n",
      "Accuracy:  0.6120283018867925\n",
      "Pprecision:  0.6120283018867925\n",
      "Recall:  0.6120283018867925\n",
      "F1:  0.6120283018867925\n"
     ]
    }
   ],
   "source": [
    "#обучаем моледь из sklearn\n",
    "NaivBais=ComplementNB()\n",
    "NaivBais.fit(X_train,y_train)\n",
    "#делаем предсказания на трейне и на тесте и смотрим метрики\n",
    "print('Метрики на обучающей выборки ')\n",
    "metrics(NaivBais.predict(X_train),y_train)\n",
    "print('Метрики на тестовой выборки ')\n",
    "metrics(NaivBais.predict(X_test),y_test)"
   ]
  },
  {
   "cell_type": "markdown",
   "metadata": {},
   "source": [
    "#### Выводы по метрикам \n",
    "- Метрики на трейне у моей модели и модели из sklearn примерно одинаковые \n",
    "- мой модель более сильно переобучилась чем модель из sklearn( разница метрик на трейне и тесте 0.07 у  моей модели и 0.01 у модели из sklearn)\n",
    "- Что у модели из sklearn и модели метрики примерно равны 0.6, что низко на млй взгляд, потому особо нету смысла использовать их в решении этой задачи "
   ]
  },
  {
   "cell_type": "markdown",
   "metadata": {},
   "source": [
    "### Алгоритм k ближайших соседей с использованием весов"
   ]
  },
  {
   "cell_type": "code",
   "execution_count": 53,
   "metadata": {},
   "outputs": [],
   "source": [
    "#мой Метод k-ближайших соседей реализован в виде класса Knn с 2 публичными методами fit и predict. fit -нужен для обучения.\n",
    "# predict для предсказания.\n",
    "\n",
    "class KNN:\n",
    "    #при инициализации в конструктор передается 2 параметра k и h. k- количство соседей , h -длинна парзеновского окна\n",
    "    def __init__(self, k,h=1):\n",
    "        self.h=h\n",
    "        self.k = k\n",
    "    \n",
    "    #получаю обучающую выборку    \n",
    "    def fit(self, X, y):\n",
    "        self.X_train = X\n",
    "        self.y_train = y\n",
    "        \n",
    "   \n",
    "    #метод _jadro_K является приватным. Он реализует вычисление Гауссовского ядра,используемового в парзеновском окне\n",
    "    def _jadro_K(self,z):\n",
    "        \n",
    "        return ((2*pi)**(-0.5))*exp(-0.5*z**(2))\n",
    "    #метод predict классифицирует объекты\n",
    "    def predict(self, X_test):\n",
    "        output = []#предсказанные метки \n",
    "        for i in range(len(X_test)):\n",
    "            d = []#растояния между тестовым объектом и объектами обучающей выборки\n",
    "            votes = []#метки ближайших объектов\n",
    "            for j in range(len(X_train)):\n",
    "                #считаем растояние \n",
    "                dist = scipy.spatial.distance.euclidean(X_train.iloc[j] , X_test.iloc[i])\n",
    "                 #считается расстояние и применяется парзеновское окно с гауссовским ядром\n",
    "                #для реализации весов. Чем меньше h , тем меньше мы учитываем далекие объекты\n",
    "                weight=self._jadro_K(scipy.spatial.distance.euclidean(X_train.iloc[j] , X_test.iloc[i])/self.h)\n",
    "                d.append([dist, j,weight])\n",
    "            \n",
    "            #сортируем расстояния до тестового объекта \n",
    "            d.sort()\n",
    "            d = d[0:self.k]#берем k ближайших тестовых объектов\n",
    "            zero_score=0\n",
    "            one_score=0\n",
    "            #достаем метки\n",
    "            for a, j, k in d:\n",
    "                votes.append(y_train.iloc[j])\n",
    "            #считаем частотность 1 и 0 учитывая веса\n",
    "            for j in range(len(votes)):\n",
    "                if votes[j]==0:\n",
    "                    zero_score=zero_score+1*d[j][2]\n",
    "                if votes[j]==1:\n",
    "                    one_score=one_score+1*d[j][2]\n",
    "            #смотрим какого класса больше\n",
    "            if zero_score>one_score:\n",
    "                ans=0\n",
    "            if  one_score>zero_score:\n",
    "                ans=1\n",
    "            output.append(ans)\n",
    "        return output\n",
    "    "
   ]
  },
  {
   "cell_type": "code",
   "execution_count": 54,
   "metadata": {},
   "outputs": [
    {
     "name": "stdout",
     "output_type": "stream",
     "text": [
      "Метрики на обучающей выборки \n",
      "Accuracy:  1.0\n",
      "Pprecision:  1.0\n",
      "Recall:  1.0\n",
      "F1:  1.0\n",
      "Метрики на тестовой выборки \n",
      "Accuracy:  0.8030660377358491\n",
      "Pprecision:  0.8030660377358491\n",
      "Recall:  0.8030660377358491\n",
      "F1:  0.8030660377358491\n"
     ]
    }
   ],
   "source": [
    "#обучаю свою модель с k=5 и h=5 . Что значит,смотреть по 5  соседям и использовать парзеновское окно равное 5\n",
    "my_KNN = KNN(3,5)\n",
    "my_KNN.fit(X_train, y_train)\n",
    "#делаем предсказания на трейне и на тесте и смотрим метрики\n",
    "print('Метрики на обучающей выборки ')\n",
    "metrics(my_KNN.predict(X_train),y_train)\n",
    "print('Метрики на тестовой выборки ')\n",
    "metrics(my_KNN.predict(X_test),y_test)"
   ]
  },
  {
   "cell_type": "code",
   "execution_count": 55,
   "metadata": {},
   "outputs": [
    {
     "name": "stdout",
     "output_type": "stream",
     "text": [
      "Метрики на обучающей выборки \n",
      "Accuracy:  1.0\n",
      "Pprecision:  1.0\n",
      "Recall:  1.0\n",
      "F1:  1.0\n",
      "Метрики на тестовой выборки \n",
      "Accuracy:  0.8419811320754716\n",
      "Pprecision:  0.8419811320754716\n",
      "Recall:  0.8419811320754716\n",
      "F1:  0.8419811320754716\n"
     ]
    }
   ],
   "source": [
    "\n",
    "#обучаем моледь из sklearn\n",
    "sk_knn=KNeighborsClassifier(n_neighbors=3,weights='distance')\n",
    "sk_knn.fit(X_train,y_train)\n",
    "#делаем предсказания на трейне и на тесте и смотрим метрики\n",
    "print('Метрики на обучающей выборки ')\n",
    "metrics(sk_knn.predict(X_train),y_train)\n",
    "print('Метрики на тестовой выборки ')\n",
    "metrics(sk_knn.predict(X_test),y_test)"
   ]
  },
  {
   "cell_type": "markdown",
   "metadata": {},
   "source": [
    "#### Выводы по метрикам\n",
    "- Метрики на трейне и тесте моей модели и модели из sklearn равны 1. Что удивляет. Получается модели полностью описывают зависимости в выборке для обучения\n",
    "- На тесте метри моей модели и модели из sklearn падают(0.85 для модели из sklearn, 0.8 у моей). Из этого следует, что наблюдается переобучение у обоих моделей\n",
    "- Но несмотря на переобучение метрки у модели KNN метрики выше чем у наивного байса, что значит, что модели KNN желательнее применять в этой задаче "
   ]
  },
  {
   "cell_type": "markdown",
   "metadata": {},
   "source": [
    "### На последок запишим наш измененный датасет в файл для  использования в следующей лабораторной"
   ]
  },
  {
   "cell_type": "code",
   "execution_count": 56,
   "metadata": {},
   "outputs": [],
   "source": [
    "dataset.to_csv('remastered_dataset.csv',index=False)"
   ]
  },
  {
   "cell_type": "code",
   "execution_count": null,
   "metadata": {},
   "outputs": [],
   "source": []
  },
  {
   "cell_type": "code",
   "execution_count": null,
   "metadata": {},
   "outputs": [],
   "source": []
  }
 ],
 "metadata": {
  "kernelspec": {
   "display_name": "Python 3",
   "language": "python",
   "name": "python3"
  },
  "language_info": {
   "codemirror_mode": {
    "name": "ipython",
    "version": 3
   },
   "file_extension": ".py",
   "mimetype": "text/x-python",
   "name": "python",
   "nbconvert_exporter": "python",
   "pygments_lexer": "ipython3",
   "version": "3.8.3"
  }
 },
 "nbformat": 4,
 "nbformat_minor": 4
}
